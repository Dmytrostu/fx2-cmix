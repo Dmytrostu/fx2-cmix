{
 "cells": [
  {
   "cell_type": "code",
   "execution_count": null,
   "metadata": {},
   "outputs": [],
   "source": [
    "from sklearn.cluster import KMeans\n",
    "import numpy as np\n",
    "import math"
   ]
  },
  {
   "cell_type": "code",
   "execution_count": null,
   "metadata": {},
   "outputs": [],
   "source": [
    "data1 = []\n",
    "data2 = []\n",
    "with open(\"after-sort.tsv\", \"r\") as out:\n",
    "    lines = out.readlines()\n",
    "    for i in range(len(lines)):\n",
    "        s = lines[i].split(\"\\t\")\n",
    "        data1.append(int(s[0]))\n",
    "        s.pop(0)\n",
    "        data2.append(np.float_(s)[0])\n",
    "print(len(data1))"
   ]
  },
  {
   "cell_type": "code",
   "execution_count": null,
   "metadata": {},
   "outputs": [],
   "source": [
    "X = np.array(data2, dtype=np.float32).reshape(-1,1)"
   ]
  },
  {
   "cell_type": "code",
   "execution_count": null,
   "metadata": {},
   "outputs": [],
   "source": [
    "clusters = math.floor(len(data1)/80)\n",
    "print(clusters)\n",
    "kmeans = KMeans(n_clusters=clusters, verbose=1).fit(X)"
   ]
  },
  {
   "cell_type": "code",
   "execution_count": null,
   "metadata": {},
   "outputs": [],
   "source": [
    "data = []\n",
    "for i in range(len(data1)):\n",
    "    data.append([data1[i] - 1, kmeans.labels_[i], i, data2[i]])"
   ]
  },
  {
   "cell_type": "code",
   "execution_count": null,
   "metadata": {},
   "outputs": [],
   "source": [
    "def compare(item1, item2):\n",
    "    if item1[1] == item2[1]:\n",
    "        return item1[0] - item2[0]\n",
    "    return item1[2] - item2[2]\n",
    "\n",
    "from functools import cmp_to_key\n",
    "sort = sorted(data, key=cmp_to_key(compare))"
   ]
  },
  {
   "cell_type": "code",
   "execution_count": null,
   "metadata": {},
   "outputs": [],
   "source": [
    "f = open(\"final-clustered.txt\", \"w\")\n",
    "for i in range(len(data)):\n",
    "    f.write(str(sort[i][0]) + \"\\n\")\n",
    "f.close()"
   ]
  }
 ],
 "metadata": {
  "kernelspec": {
   "display_name": "Python 3 (ipykernel)",
   "language": "python",
   "name": "python3"
  },
  "language_info": {
   "codemirror_mode": {
    "name": "ipython",
    "version": 3
   },
   "file_extension": ".py",
   "mimetype": "text/x-python",
   "name": "python",
   "nbconvert_exporter": "python",
   "pygments_lexer": "ipython3",
   "version": "3.10.12"
  }
 },
 "nbformat": 4,
 "nbformat_minor": 1
}
