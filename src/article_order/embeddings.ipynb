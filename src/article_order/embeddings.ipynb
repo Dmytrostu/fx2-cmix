{
 "cells": [
  {
   "cell_type": "code",
   "execution_count": null,
   "metadata": {},
   "outputs": [],
   "source": [
    "import voyageai\n",
    "import time\n",
    "import re\n",
    "\n",
    "vo = voyageai.Client(api_key=\"<your secret key>\")\n",
    "# This will automatically use the environment variable VOYAGE_API_KEY.\n",
    "# Alternatively, you can use vo = voyageai.Client(api_key=\"<your secret key>\")"
   ]
  },
  {
   "cell_type": "code",
   "execution_count": null,
   "metadata": {},
   "outputs": [],
   "source": [
    "with open('/home/byron/repos/cmix/data/enwik9', 'r') as file:\n",
    "    enwik9 = file.read()"
   ]
  },
  {
   "cell_type": "code",
   "execution_count": null,
   "metadata": {},
   "outputs": [],
   "source": [
    "articles = enwik9.split(\"<page>\")\n",
    "enwik9 = \"\""
   ]
  },
  {
   "cell_type": "code",
   "execution_count": null,
   "metadata": {},
   "outputs": [],
   "source": [
    "truncate_article = 4000\n",
    "articles_per_request = 25\n",
    "first = 0\n",
    "last = len(articles)\n",
    "texts = []\n",
    "m = {}\n",
    "file1 = open(\"embeddings-4k.tsv\", \"a\")  # append mode\n",
    "for i in range(last-first):\n",
    "    index = i + first\n",
    "    start = articles[index].find(\"<text xml:space=\\\"preserve\\\">\")\n",
    "    end = articles[index].find(\"</text>\")\n",
    "    if (start > 0 and end > 0):\n",
    "        if (articles[index][start+27] == '#' and (articles[index][start+28] == 'R' or articles[index][start+28] == 'r')):\n",
    "            continue\n",
    "        title_start = articles[index].find(\"<title>\")\n",
    "        title_end = articles[index].find(\"</title>\")\n",
    "        title = articles[index][title_start+7:title_end]\n",
    "        m[len(texts)] = index\n",
    "        content = articles[index][start+27:end]\n",
    "        content = re.sub(\"{{[^}]*\\n[^}]*}}\", \"\", content, flags = re.MULTILINE)\n",
    "        content = title + \"\\n\" + content[:truncate_article]\n",
    "        texts.append(content)\n",
    "    if (len(texts) == articles_per_request):\n",
    "        print(index)\n",
    "        result = vo.embed(texts, model=\"voyage-large-2-instruct\", input_type=\"document\")\n",
    "        time.sleep(1.0)\n",
    "        for j in range(len(result.embeddings)):\n",
    "            file1.write(str(m[j]) + \"\\t\" + '\\t'.join(map(str,result.embeddings[j])) + \"\\n\")\n",
    "        m = {}\n",
    "        texts = []\n",
    "if (len(texts) > 0):\n",
    "    result = vo.embed(texts, model=\"voyage-large-2-instruct\", input_type=\"document\")\n",
    "    for j in range(len(result.embeddings)):\n",
    "        file1.write(str(m[j]) + \"\\t\" + '\\t'.join(map(str,result.embeddings[j])) + \"\\n\")\n",
    "    m = {}\n",
    "    texts = []\n",
    "file1.close()"
   ]
  }
 ],
 "metadata": {
  "kernelspec": {
   "display_name": "Python 3 (ipykernel)",
   "language": "python",
   "name": "python3"
  },
  "language_info": {
   "codemirror_mode": {
    "name": "ipython",
    "version": 3
   },
   "file_extension": ".py",
   "mimetype": "text/x-python",
   "name": "python",
   "nbconvert_exporter": "python",
   "pygments_lexer": "ipython3",
   "version": "3.10.12"
  }
 },
 "nbformat": 4,
 "nbformat_minor": 1
}
