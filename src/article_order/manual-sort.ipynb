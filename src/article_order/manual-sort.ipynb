{
 "cells": [
  {
   "cell_type": "code",
   "execution_count": 1,
   "metadata": {},
   "outputs": [],
   "source": [
    "with open('/home/byron/repos/cmix/data/enwik9', 'r') as file:\n",
    "    enwik9 = file.read()\n",
    "articles = enwik9.split(\"<page>\")\n",
    "enwik9 = \"\""
   ]
  },
  {
   "cell_type": "code",
   "execution_count": 2,
   "metadata": {},
   "outputs": [
    {
     "name": "stdout",
     "output_type": "stream",
     "text": [
      "info: 21546\n",
      "image: 13908\n",
      "disam: 7473\n",
      "geo: 325\n",
      "census: 36519\n",
      "hndis: 157\n"
     ]
    }
   ],
   "source": [
    "import re\n",
    "first = 0\n",
    "last = len(articles)\n",
    "texts = []\n",
    "m = {}\n",
    "info_count = 0\n",
    "image_count = 0\n",
    "disam_count = 0\n",
    "geo_count = 0\n",
    "hndis_count = 0\n",
    "census_count = 0\n",
    "for i in range(last-first):\n",
    "    index = i + first\n",
    "    start = articles[index].find(\"<text xml:space=\\\"preserve\\\">\")\n",
    "    end = articles[index].find(\"</text>\")\n",
    "    if (start > 0 and end > 0):\n",
    "        if (articles[index][start+27] == '#' and (articles[index][start+28] == 'R' or articles[index][start+28] == 'r')):\n",
    "            continue\n",
    "        title_start = articles[index].find(\"<title>\")\n",
    "        title_end = articles[index].find(\"</title>\")\n",
    "        title = articles[index][title_start+7:title_end]\n",
    "        content = articles[index][start+27:end]\n",
    "        info = False\n",
    "        if (re.search(\"{{[^}]*\\n[^}]*}}\", content, flags = re.MULTILINE)):\n",
    "            info = True\n",
    "            info_count += 1\n",
    "        image = False\n",
    "        if (title.startswith(\"Image:\")):\n",
    "            image = True\n",
    "            image_count += 1\n",
    "        disam = False\n",
    "        if (title.find(\"(disambiguation)\") >= 0 or re.search(\"{{[Dd]isam.*}}\", content)):\n",
    "            disam = True\n",
    "            disam_count += 1\n",
    "        hndis = False\n",
    "        if (re.search(\"{{hndis\", content)):\n",
    "            hndis = True\n",
    "            hndis_count += 1\n",
    "        geo = False\n",
    "        if (content.find(\"{{geodis}}\") >= 0):\n",
    "            geo = True\n",
    "            geo_count += 1\n",
    "        census = False\n",
    "        if (content.find(\"According to the [[United States Census Bureau]],\") >= 0 or content.find(\"According to the [[U.S. Census Bureau]],\") >= 0 or content.find(\"As of the [[2000]] census,\") >= 0 or content.find(\"According to the [[2000]] census, \") >= 0 or content.find(\"According to the [[United States Census Bureau|U.S. Census Bureau]],\") >= 0 or content.find(\"According to the [[US Census Bureau]], \") >= 0 or content.find(\"According to the U.S. Census,\") >= 0 or content.find(\"As of the 2000 \") >= 0 or content.find(\"As of the census of 2000,\") >= 0):\n",
    "            census = True\n",
    "            census_count += 1\n",
    "        m[index - 1] = title + \"\\t\" + str(info) + \"\\t\" + str(image) + \"\\t\" + str(disam) + \"\\t\" + str(geo) + \"\\t\" + str(census) + \"\\t\" + str(hndis)\n",
    "print(\"info: \" + str(info_count))\n",
    "print(\"image: \" + str(image_count))\n",
    "print(\"disam: \" + str(disam_count))\n",
    "print(\"geo: \" + str(geo_count))\n",
    "print(\"census: \" + str(census_count))\n",
    "print(\"hndis: \" + str(hndis_count))"
   ]
  },
  {
   "cell_type": "code",
   "execution_count": 3,
   "metadata": {},
   "outputs": [],
   "source": [
    "f = open(\"analyze.tsv\", \"w\")\n",
    "data = []\n",
    "with open(\"final-clustered-2154-4k-160ktsne-rev.txt\", \"r\") as out:\n",
    "    lines = out.readlines()\n",
    "    for i in range(len(lines)):\n",
    "        data.append([])\n",
    "        key = int(lines[i])\n",
    "        f.write(m[key] + \"\\n\")\n",
    "        s = m[key].split(\"\\t\")\n",
    "        data[i].append(i)\n",
    "        data[i].append(key)\n",
    "        for j in range(len(s)):\n",
    "            data[i].append(s[j])\n",
    "f.close()"
   ]
  },
  {
   "cell_type": "code",
   "execution_count": 4,
   "metadata": {},
   "outputs": [],
   "source": [
    "def compare(item1, item2):\n",
    "    if item1[8] != item2[8]: # hndis\n",
    "        if (item1[8] == 'True'):\n",
    "            return 1\n",
    "        return -1\n",
    "    if item1[6] != item2[6]: # geo\n",
    "        if (item1[6] == 'True'):\n",
    "            return 1\n",
    "        return -1\n",
    "    if item1[5] != item2[5]: # disam\n",
    "        if (item1[5] == 'True'):\n",
    "            return 1\n",
    "        return -1\n",
    "    if item1[4] != item2[4]: # image\n",
    "        if (item1[4] == 'True'):\n",
    "            return 1\n",
    "        return -1\n",
    "    if item1[7] != item2[7]: # census\n",
    "        if (item1[7] == 'True'):\n",
    "            return 1\n",
    "        return -1\n",
    "    return item1[0] - item2[0]\n",
    "\n",
    "from functools import cmp_to_key\n",
    "sort = sorted(data, key=cmp_to_key(compare))"
   ]
  },
  {
   "cell_type": "code",
   "execution_count": 5,
   "metadata": {},
   "outputs": [],
   "source": [
    "f = open(\"analyze.tsv\", \"w\")\n",
    "for i in range(len(sort)):\n",
    "    f.write('\\t'.join(str(x) for x in sort[i]) + \"\\n\")\n",
    "f.close()"
   ]
  },
  {
   "cell_type": "code",
   "execution_count": 6,
   "metadata": {},
   "outputs": [],
   "source": [
    "f = open(\"final.txt\", \"w\")\n",
    "for i in range(len(sort)):\n",
    "    f.write(str(sort[i][1]) + \"\\n\")\n",
    "f.close()"
   ]
  }
 ],
 "metadata": {
  "kernelspec": {
   "display_name": "Python 3 (ipykernel)",
   "language": "python",
   "name": "python3"
  },
  "language_info": {
   "codemirror_mode": {
    "name": "ipython",
    "version": 3
   },
   "file_extension": ".py",
   "mimetype": "text/x-python",
   "name": "python",
   "nbconvert_exporter": "python",
   "pygments_lexer": "ipython3",
   "version": "3.10.12"
  }
 },
 "nbformat": 4,
 "nbformat_minor": 1
}
